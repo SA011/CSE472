{
 "cells": [
  {
   "cell_type": "markdown",
   "metadata": {},
   "source": [
    "Imports"
   ]
  },
  {
   "cell_type": "code",
   "execution_count": 496,
   "metadata": {},
   "outputs": [],
   "source": [
    "import numpy as np\n",
    "import matplotlib.pyplot as plt\n",
    "import seaborn as sns\n",
    "# pca\n",
    "# from sklearn.decomposition import PCA\n",
    "np.random.seed(1)"
   ]
  },
  {
   "cell_type": "markdown",
   "metadata": {},
   "source": [
    "Read Data"
   ]
  },
  {
   "cell_type": "code",
   "execution_count": 497,
   "metadata": {},
   "outputs": [],
   "source": [
    "def read_data(input_file):\n",
    "    file = open(input_file, \"r\")\n",
    "    data = []\n",
    "    for line in file:\n",
    "        if line[-1] == '\\n':\n",
    "            line = line[:-1]\n",
    "        data.append(list(map(float, line.split(','))))\n",
    "    file.close()\n",
    "    return np.array(data)\n",
    "# print(read_data(\"3D_data_points.txt\"))"
   ]
  },
  {
   "cell_type": "markdown",
   "metadata": {},
   "source": [
    "Plotter"
   ]
  },
  {
   "cell_type": "code",
   "execution_count": 498,
   "metadata": {},
   "outputs": [],
   "source": [
    "def plotData(data, title=\"PCA\", classes = None, save=False, means = None):\n",
    "    colors = ['b', 'g', 'c', 'm', 'y', 'k', 'w', 'o']\n",
    "    if classes is None:\n",
    "        plt.scatter(data[:,0], data[:,1], s=2)\n",
    "    else:\n",
    "        mx = np.max(classes)\n",
    "        datas = [[] for i in range(mx+1)]\n",
    "        for i in range(len(data)):\n",
    "            datas[classes[i]].append(data[i])\n",
    "        for i in range(mx+1):\n",
    "            if(datas[i] != []):\n",
    "                datas[i] = np.array(datas[i])\n",
    "                plt.scatter(datas[i][:,0], datas[i][:,1], s=2, c=colors[i])\n",
    "    \n",
    "    # if means is not None:\n",
    "    #     plt.scatter(means[:,0], means[:,1], s=50, c='r')\n",
    "    plt.title(title)\n",
    "    plt.xlabel(\"x\")\n",
    "    plt.ylabel(\"y\")\n",
    "    if save:\n",
    "        plt.savefig(title + \".png\", dpi=300)\n",
    "        plt.show()"
   ]
  },
  {
   "cell_type": "markdown",
   "metadata": {},
   "source": [
    "PCA"
   ]
  },
  {
   "cell_type": "code",
   "execution_count": 499,
   "metadata": {},
   "outputs": [],
   "source": [
    "def pca(data):\n",
    "    if data.shape[1] <= 2:\n",
    "        return data\n",
    "    data = data - np.mean(data, axis=0)\n",
    "    # return PCA(n_components=2).fit_transform(data)\n",
    "    # center the data\n",
    "    # using svd\n",
    "    u, s, v = np.linalg.svd(data)\n",
    "    # print(u[:, :2].dot(np.diag(s[:2])).dot(v[:2, :2]))\n",
    "    return u[:, :2] @ np.diag(s[:2])\n",
    "    # pca\n",
    "\n",
    "    return"
   ]
  },
  {
   "cell_type": "markdown",
   "metadata": {},
   "source": [
    "Gaussian Model"
   ]
  },
  {
   "cell_type": "code",
   "execution_count": 500,
   "metadata": {},
   "outputs": [],
   "source": [
    "class multivariate_gaussian:\n",
    "    def calc(self):\n",
    "        self.det_sigma = np.linalg.det(self.sigma)\n",
    "        if self.det_sigma < 1e-9:\n",
    "            self.sigma += np.eye(self.n) * 1e-7\n",
    "            self.det_sigma = np.linalg.det(self.sigma)\n",
    "        \n",
    "        if self.det_sigma < 1e-9:\n",
    "            self.sigma = np.eye(self.n) * np.random.rand(self.n)\n",
    "            self.det_sigma = np.linalg.det(self.sigma)\n",
    "\n",
    "        self.inv_sigma = np.linalg.inv(self.sigma)\n",
    "        self.normalization = 1 / np.sqrt((2 * np.pi) ** self.n * self.det_sigma)\n",
    "    def __init__(self, mu, sigma):\n",
    "        self.mu = mu\n",
    "        self.sigma = sigma\n",
    "        self.n = len(mu)\n",
    "        self.calc()   \n",
    "    def pdf(self, x):\n",
    "        return self.normalization * np.exp(-0.5 * np.sum((x - self.mu).dot(self.inv_sigma) * ((x - self.mu)), axis = 1))"
   ]
  },
  {
   "cell_type": "markdown",
   "metadata": {},
   "source": [
    "Gaussian Mixture Model"
   ]
  },
  {
   "cell_type": "code",
   "execution_count": 501,
   "metadata": {},
   "outputs": [],
   "source": [
    "class GMM:\n",
    "    def __init__(self, k, m):\n",
    "        self.k = k\n",
    "        self.weights = np.random.rand(k)\n",
    "        self.weights /= np.sum(self.weights)\n",
    "        self.gaussians = []\n",
    "        self.m = m\n",
    "        for i in range(k):\n",
    "            random_mu = np.random.rand(m)\n",
    "            random_sigma = np.eye(m) * np.random.rand(m)\n",
    "\n",
    "            self.gaussians.append(multivariate_gaussian(random_mu, random_sigma))\n",
    "    "
   ]
  },
  {
   "cell_type": "markdown",
   "metadata": {},
   "source": [
    "EM-Algorithm"
   ]
  },
  {
   "cell_type": "code",
   "execution_count": 502,
   "metadata": {},
   "outputs": [],
   "source": [
    "class EM:\n",
    "    def __init__(self, data, k):\n",
    "        self.data = data\n",
    "        self.k = k\n",
    "        self.m = data.shape[1]\n",
    "        self.gmm = GMM(k, self.m)\n",
    "        self.expectation = np.zeros((data.shape[0], k))\n",
    "\n",
    "    def reset(self):\n",
    "        self.gmm = GMM(self.k, self.m)\n",
    "        self.expectation = np.zeros((self.data.shape[0], self.k))\n",
    "\n",
    "    def E_step(self):\n",
    "        for j in range(self.k):\n",
    "            self.expectation[:, j] = self.gmm.weights[j] * self.gmm.gaussians[j].pdf(self.data)\n",
    "        self.expectation = self.expectation / np.sum(self.expectation, axis=1).reshape(-1, 1)\n",
    "\n",
    "    def M_step(self):\n",
    "        for j in range(self.k):\n",
    "            ni = np.sum(self.expectation[:, j])\n",
    "            self.gmm.weights[j] = ni / self.data.shape[0]\n",
    "            self.gmm.gaussians[j].mu = np.sum(self.expectation[:, j].reshape(-1, 1) * self.data, axis=0) / ni\n",
    "            data_centered = self.data - self.gmm.gaussians[j].mu\n",
    "            self.gmm.gaussians[j].sigma = (self.expectation[:, j].reshape(-1, 1) * data_centered).T.dot(data_centered) / ni\n",
    "            self.gmm.gaussians[j].calc()\n",
    "    \n",
    "    def log_likelihood(self):\n",
    "        log_likelihood = 0\n",
    "        for i in range(self.data.shape[0]):\n",
    "            log_likelihood += np.log(np.sum(self.gmm.weights * np.array([self.gmm.gaussians[j].pdf([self.data[i]])[0] for j in range(self.k)])))\n",
    "        return log_likelihood / self.data.shape[0]\n",
    "    \n",
    "    def train(self, max_iter=100, eps=1e-3):\n",
    "        current_log_likelihood = self.log_likelihood()\n",
    "        for i in range(max_iter):\n",
    "            self.E_step()\n",
    "            self.M_step()\n",
    "            new_log_likelihood = self.log_likelihood()\n",
    "            if abs(new_log_likelihood - current_log_likelihood) < eps:\n",
    "                break\n",
    "            current_log_likelihood = new_log_likelihood\n",
    "        return current_log_likelihood"
   ]
  },
  {
   "cell_type": "markdown",
   "metadata": {},
   "source": [
    "Main"
   ]
  },
  {
   "cell_type": "code",
   "execution_count": 503,
   "metadata": {},
   "outputs": [],
   "source": [
    "def main():\n",
    "    \n",
    "    datafiles = [\"2D_data_points_1.txt\", \"2D_data_points_2.txt\", \"3D_data_points.txt\", \"6D_data_points.txt\"]\n",
    "    # datafiles = [\"6D_data_points.txt\"]\n",
    "    for datafile in datafiles:\n",
    "        data = read_data(datafile)\n",
    "        pca_data = pca(data)\n",
    "        best = -1e9\n",
    "        log_likelihoods = []\n",
    "        best_values_of_k = -1\n",
    "        for k in range(3, 9):\n",
    "            best_k_em = None\n",
    "            best_k = -1e9\n",
    "            for i in range(5):\n",
    "                em = EM(pca_data, k)\n",
    "                log_likelihood = em.train()\n",
    "                if log_likelihood > best_k:\n",
    "                    best_k = log_likelihood\n",
    "                    best_k_em = em\n",
    "            \n",
    "            if best_k > best:\n",
    "                best = best_k\n",
    "                best_em = best_k_em\n",
    "                best_values_of_k = k\n",
    "            \n",
    "            log_likelihoods.append(best_k)\n",
    "        \n",
    "        plt.plot(range(3, 9), log_likelihoods)\n",
    "        plt.xlabel(\"k\")\n",
    "        plt.ylabel(\"log likelihood\")\n",
    "        plt.savefig(datafile[:-4] + \"_log_likelihood.png\", dpi=300)\n",
    "        plt.show()\n",
    "        \n",
    "        best_em.E_step()\n",
    "        classes = np.argmax(best_em.expectation, axis=1)\n",
    "        plotData(pca_data, datafile[:-4], classes, True, np.array([best_em.gmm.gaussians[j].mu for j in range(best_values_of_k)]))\n",
    "\n",
    "    # plot with color"
   ]
  },
  {
   "cell_type": "code",
   "execution_count": 504,
   "metadata": {},
   "outputs": [
    {
     "data": {
      "image/png": "[encoded data removed]",
      "text/plain": [
       "<Figure size 432x288 with 1 Axes>"
      ]
     },
     "metadata": {
      "needs_background": "light"
     },
     "output_type": "display_data"
    },
    {
     "data": {
      "image/png": "[encoded data removed]",
      "text/plain": [
       "<Figure size 432x288 with 1 Axes>"
      ]
     },
     "metadata": {
      "needs_background": "light"
     },
     "output_type": "display_data"
    }
   ],
   "source": [
    "if __name__ == \"__main__\":\n",
    "    main()"
   ]
  }
 ],
 "metadata": {
  "kernelspec": {
   "display_name": "Python 3",
   "language": "python",
   "name": "python3"
  },
  "language_info": {
   "codemirror_mode": {
    "name": "ipython",
    "version": 3
   },
   "file_extension": ".py",
   "mimetype": "text/x-python",
   "name": "python",
   "nbconvert_exporter": "python",
   "pygments_lexer": "ipython3",
   "version": "3.10.12"
  }
 },
 "nbformat": 4,
 "nbformat_minor": 2
}
